{
 "cells": [
  {
   "cell_type": "markdown",
   "id": "82e858fd-2b0d-44ba-9a2d-77fac1dd66d5",
   "metadata": {},
   "source": [
    "💡 **Q1.** Given an array of integers nums and an integer target, return indices of the two numbers such that they add up to target.\n",
    "\n",
    "You may assume that each input would have exactly one solution, and you may not use the same element twice.\n",
    "\n",
    "You can return the answer in any order.\n",
    "\n",
    "**Example:**\n",
    "Input: nums = [2,7,11,15], target = 9\n",
    "Output0 [0,1]\n",
    "\n",
    "**Explanation:** Because nums[0] + nums[1] == 9, we return [0, 1]"
   ]
  },
  {
   "cell_type": "code",
   "execution_count": 1,
   "id": "f4d19b5e-7813-4359-acab-06302ad551a4",
   "metadata": {
    "tags": []
   },
   "outputs": [
    {
     "name": "stdin",
     "output_type": "stream",
     "text": [
      " 2 7 11 15\n",
      " 9\n"
     ]
    },
    {
     "name": "stdout",
     "output_type": "stream",
     "text": [
      "[0, 1]\n"
     ]
    }
   ],
   "source": [
    "def twoSum(nums, target):\n",
    "        d = {}\n",
    "        for i, j in enumerate(nums):\n",
    "            r = target - j\n",
    "            if r in d: \n",
    "                return [d[r], i]\n",
    "            d[j] = i\n",
    "            \n",
    "nums = list(map(int,input().split()))\n",
    "target = int(input())\n",
    "print(twoSum(nums,target))"
   ]
  },
  {
   "cell_type": "markdown",
   "id": "30ecd7d0-eec8-46b6-8789-732fa79fba40",
   "metadata": {},
   "source": [
    "💡 **Q2.** Given an integer array nums and an integer val, remove all occurrences of val in nums in-place. The order of the elements may be changed. Then return the number of elements in nums which are not equal to val.\n",
    "\n",
    "Consider the number of elements in nums which are not equal to val be k, to get accepted, you need to do the following things:\n",
    "\n",
    "- Change the array nums such that the first k elements of nums contain the elements which are not equal to val. The remaining elements of nums are not important as well as the size of nums.\n",
    "- Return k.\n",
    "\n",
    "**Example :**\n",
    "Input: nums = [3,2,2,3], val = 3\n",
    "Output: 2, nums = [2,2,_*,_*]\n",
    "\n",
    "**Explanation:** Your function should return k = 2, with the first two elements of nums being 2. It does not matter what you leave beyond the returned k (hence they are underscores\n"
   ]
  },
  {
   "cell_type": "code",
   "execution_count": 2,
   "id": "f5f7b8ba-d6fc-459b-b7a1-1adcb602af58",
   "metadata": {
    "tags": []
   },
   "outputs": [
    {
     "name": "stdin",
     "output_type": "stream",
     "text": [
      " 3 2 2 3\n",
      " 3\n"
     ]
    },
    {
     "name": "stdout",
     "output_type": "stream",
     "text": [
      "(2, [2, 2])\n"
     ]
    }
   ],
   "source": [
    "def remove_val(nums,val):\n",
    "    for i in nums:\n",
    "        if i == val:\n",
    "            nums.remove(val)\n",
    "    return len(nums),nums\n",
    "\n",
    "nums = list(map(int,input().split()))\n",
    "val = int(input())\n",
    "print(remove_val(nums,val))"
   ]
  },
  {
   "cell_type": "markdown",
   "id": "a88c2614-d0ff-4f26-bee0-1111210d51cf",
   "metadata": {},
   "source": [
    "<aside>\n",
    "💡 **Q3.** Given a sorted array of distinct integers and a target value, return the index if the target is found. If not, return the index where it would be if it were inserted in order.\n",
    "\n",
    "You must write an algorithm with O(log n) runtime complexity.\n",
    "\n",
    "**Example 1:**\n",
    "Input: nums = [1,3,5,6], target = 5\n",
    "\n",
    "Output: 2\n",
    "\n",
    "</aside>"
   ]
  },
  {
   "cell_type": "code",
   "execution_count": 5,
   "id": "b45dd47e-382c-4b66-9b51-7e7d55961a14",
   "metadata": {},
   "outputs": [
    {
     "name": "stdin",
     "output_type": "stream",
     "text": [
      " 1 3 5 6\n",
      " 5\n"
     ]
    },
    {
     "name": "stdout",
     "output_type": "stream",
     "text": [
      "2\n"
     ]
    }
   ],
   "source": [
    "def target_find(nums,target):\n",
    "    left = 0\n",
    "    right = len(nums)-1\n",
    "    while left<=right:\n",
    "        mid = (left + right)//2\n",
    "        if nums[mid]==target:\n",
    "            return mid\n",
    "        elif nums[mid]< target:\n",
    "            left = mid +1\n",
    "        else:\n",
    "            right = mid -1\n",
    "    return None\n",
    "\n",
    "nums = list(map(int,input().split()))\n",
    "target = int(input())\n",
    "print(target_find(nums,target))        "
   ]
  },
  {
   "cell_type": "markdown",
   "id": "93234212-1a86-496e-8660-81e1719abe09",
   "metadata": {},
   "source": [
    "<aside>\n",
    "💡 **Q4.** You are given a large integer represented as an integer array digits, where each digits[i] is the ith digit of the integer. The digits are ordered from most significant to least significant in left-to-right order. The large integer does not contain any leading 0's.\n",
    "\n",
    "Increment the large integer by one and return the resulting array of digits.\n",
    "\n",
    "**Example 1:**\n",
    "Input: digits = [1,2,3]\n",
    "Output: [1,2,4]\n",
    "\n",
    "**Explanation:** The array represents the integer 123.\n",
    "\n",
    "Incrementing by one gives 123 + 1 = 124.\n",
    "Thus, the result should be [1,2,4].\n",
    "\n",
    "</aside>"
   ]
  },
  {
   "cell_type": "code",
   "execution_count": 13,
   "id": "25ac8e51-6f99-4ce0-9789-5a3dd6dd6559",
   "metadata": {},
   "outputs": [
    {
     "name": "stdin",
     "output_type": "stream",
     "text": [
      " 1 2 3\n"
     ]
    },
    {
     "name": "stdout",
     "output_type": "stream",
     "text": [
      "[1, 2, 4]\n"
     ]
    }
   ],
   "source": [
    "def increment(arr):\n",
    "    num = 0\n",
    "    exp = len(arr) -1\n",
    "    for i in arr:\n",
    "        num += i*(10**exp)\n",
    "        exp -= 1\n",
    "    num += 1 # increment by 1\n",
    "    return[int(x) for x in str(num)]\n",
    "\n",
    "arr = list(map(int,input().split()))\n",
    "print(increment(arr))    \n",
    "        "
   ]
  },
  {
   "cell_type": "markdown",
   "id": "8dbbcfd4-4762-4294-b978-dfa1d3681505",
   "metadata": {},
   "source": [
    "<aside>\n",
    "💡 **Q5.** You are given two integer arrays nums1 and nums2, sorted in non-decreasing order, and two integers m and n, representing the number of elements in nums1 and nums2 respectively.\n",
    "\n",
    "Merge nums1 and nums2 into a single array sorted in non-decreasing order.\n",
    "\n",
    "The final sorted array should not be returned by the function, but instead be stored inside the array nums1. To accommodate this, nums1 has a length of m + n, where the first m elements denote the elements that should be merged, and the last n elements are set to 0 and should be ignored. nums2 has a length of n.\n",
    "\n",
    "**Example 1:**\n",
    "Input: nums1 = [1,2,3,0,0,0], m = 3, nums2 = [2,5,6], n = 3\n",
    "Output: [1,2,2,3,5,6]\n",
    "\n",
    "**Explanation:** The arrays we are merging are [1,2,3] and [2,5,6].\n",
    "The result of the merge is [1,2,2,3,5,6] with the underlined elements coming from nums1.\n",
    "\n",
    "</aside>"
   ]
  },
  {
   "cell_type": "code",
   "execution_count": 18,
   "id": "36c835ed-1347-4fc6-859e-201a73644c5c",
   "metadata": {},
   "outputs": [
    {
     "name": "stdin",
     "output_type": "stream",
     "text": [
      " 1 2 3 0 0 0\n",
      " 3\n",
      " 2 5 6\n",
      " 3\n"
     ]
    },
    {
     "name": "stdout",
     "output_type": "stream",
     "text": [
      "[1, 2, 2, 3, 5, 6]\n"
     ]
    }
   ],
   "source": [
    "def merge(nums1,nums2,m,n):\n",
    "    if n !=0:\n",
    "        for i in nums2:\n",
    "            nums1[m] = i\n",
    "            m +=1\n",
    "    nums1 = nums1.sort()\n",
    "\n",
    "nums1 = list(map(int,input().split()))\n",
    "m = int(input())\n",
    "nums2 = list(map(int,input().split()))\n",
    "n = int(input())\n",
    "merge(nums1,nums2,m,n) # Calling Function\n",
    "print(nums1)    \n",
    "        "
   ]
  },
  {
   "cell_type": "markdown",
   "id": "9d34e44a-a82d-44f4-9fcc-3468a50cf33f",
   "metadata": {},
   "source": [
    "<aside>\n",
    "💡 **Q6.** Given an integer array nums, return true if any value appears at least twice in the array, and return false if every element is distinct.\n",
    "\n",
    "**Example 1:**\n",
    "Input: nums = [1,2,3,1]\n",
    "\n",
    "Output: true\n",
    "\n",
    "</aside>"
   ]
  },
  {
   "cell_type": "code",
   "execution_count": 28,
   "id": "ab60123e-d740-41dd-a85b-8d870a1cc85b",
   "metadata": {},
   "outputs": [
    {
     "name": "stdin",
     "output_type": "stream",
     "text": [
      " 1 2 3 1\n"
     ]
    },
    {
     "name": "stdout",
     "output_type": "stream",
     "text": [
      "True\n"
     ]
    }
   ],
   "source": [
    "def check_distinct(nums):\n",
    "    if len(set(nums)) != len(nums):\n",
    "        return True\n",
    "    else:\n",
    "        return False\n",
    "\n",
    "nums = list(map(int, input().split()))\n",
    "print(check_distinct(nums))"
   ]
  },
  {
   "cell_type": "markdown",
   "id": "06a64202-61f5-40be-920a-35435d3805c2",
   "metadata": {},
   "source": [
    "<aside>\n",
    "💡 **Q7.** Given an integer array nums, move all 0's to the end of it while maintaining the relative order of the nonzero elements.\n",
    "\n",
    "Note that you must do this in-place without making a copy of the array.\n",
    "\n",
    "**Example 1:**\n",
    "Input: nums = [0,1,0,3,12]\n",
    "Output: [1,3,12,0,0]\n",
    "\n",
    "</aside>"
   ]
  },
  {
   "cell_type": "code",
   "execution_count": 54,
   "id": "0789a6d3-700a-445b-80bc-b75ede14f5f7",
   "metadata": {},
   "outputs": [
    {
     "name": "stdin",
     "output_type": "stream",
     "text": [
      " 0 1 0 3 12\n"
     ]
    },
    {
     "name": "stdout",
     "output_type": "stream",
     "text": [
      "[1, 3, 12, 0, 0]\n"
     ]
    }
   ],
   "source": [
    "def end_zero(nums):\n",
    "    no_of_zero=0\n",
    "    for i,j in enumerate(nums):\n",
    "        if j == 0:\n",
    "            no_of_zero += 1\n",
    "    for i in range(no_of_zero):\n",
    "        nums.remove(0)\n",
    "        nums.append(0)\n",
    "            \n",
    "    return nums\n",
    "\n",
    "nums = list(map(int, input().split()))\n",
    "print(end_zero(nums))"
   ]
  },
  {
   "cell_type": "markdown",
   "id": "d1754d2e-23a1-4881-85ed-58f05008b74d",
   "metadata": {},
   "source": [
    "<aside>\n",
    "💡 **Q8.** You have a set of integers s, which originally contains all the numbers from 1 to n. Unfortunately, due to some error, one of the numbers in s got duplicated to another number in the set, which results in repetition of one number and loss of another number.\n",
    "\n",
    "You are given an integer array nums representing the data status of this set after the error.\n",
    "\n",
    "Find the number that occurs twice and the number that is missing and return them in the form of an array.\n",
    "\n",
    "**Example 1:**\n",
    "Input: nums = [1,2,2,4]\n",
    "Output: [2,3]\n",
    "\n",
    "</aside>"
   ]
  },
  {
   "cell_type": "code",
   "execution_count": 55,
   "id": "2fac67bc-3f77-46a6-bd53-0d2f09d0660e",
   "metadata": {},
   "outputs": [
    {
     "name": "stdin",
     "output_type": "stream",
     "text": [
      " 1 2 2 4\n"
     ]
    },
    {
     "name": "stdout",
     "output_type": "stream",
     "text": [
      "[2, 3]\n"
     ]
    }
   ],
   "source": [
    "def check_twice_and_missing(nums):\n",
    "    sum_of_n = (len(nums) * (len(nums)+1))//2 #sum of first n number\n",
    "    if sum(nums) != sum(set(nums)):\n",
    "        missing = sum_of_n-sum(set(nums))\n",
    "        repeat = sum(nums) - sum(set(nums)) \n",
    "    return [repeat, missing]\n",
    "\n",
    "nums = list(map(int,input().split()))\n",
    "print(check_twice_and_missing(nums))\n",
    "        "
   ]
  }
 ],
 "metadata": {
  "kernelspec": {
   "display_name": "Python 3 (ipykernel)",
   "language": "python",
   "name": "python3"
  },
  "language_info": {
   "codemirror_mode": {
    "name": "ipython",
    "version": 3
   },
   "file_extension": ".py",
   "mimetype": "text/x-python",
   "name": "python",
   "nbconvert_exporter": "python",
   "pygments_lexer": "ipython3",
   "version": "3.10.0"
  }
 },
 "nbformat": 4,
 "nbformat_minor": 5
}
