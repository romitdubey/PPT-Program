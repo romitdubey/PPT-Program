{
 "cells": [
  {
   "cell_type": "markdown",
   "id": "8b93e0ad-2c73-4e77-9cbd-a1ef8d7b2bfc",
   "metadata": {},
   "source": [
    "<aside>\n",
    "💡 **Question 1**\n",
    "Given an integer array nums of 2n integers, group these integers into n pairs (a1, b1), (a2, b2),..., (an, bn) such that the sum of min(ai, bi) for all i is maximized. Return the maximized sum.\n",
    "\n",
    "**Example 1:**\n",
    "Input: nums = [1,4,3,2]\n",
    "Output: 4\n",
    "\n",
    "**Explanation:** All possible pairings (ignoring the ordering of elements) are:\n",
    "\n",
    "1. (1, 4), (2, 3) -> min(1, 4) + min(2, 3) = 1 + 2 = 3\n",
    "2. (1, 3), (2, 4) -> min(1, 3) + min(2, 4) = 1 + 2 = 3\n",
    "3. (1, 2), (3, 4) -> min(1, 2) + min(3, 4) = 1 + 3 = 4\n",
    "So the maximum possible sum is 4\n",
    "</aside>"
   ]
  },
  {
   "cell_type": "code",
   "execution_count": 10,
   "id": "2a34b78c-0019-451c-9f42-eb02b78a41a9",
   "metadata": {
    "tags": []
   },
   "outputs": [
    {
     "name": "stdout",
     "output_type": "stream",
     "text": [
      "4\n"
     ]
    }
   ],
   "source": [
    "def maximum(nums):   \n",
    "    nums.sort()\n",
    "    res = 0\n",
    "    for i in range(0, len(nums), 2):\n",
    "        res += nums[i]\n",
    "    return res\n",
    "\n",
    "nums = [1,4,3,2]\n",
    "print(maximum(nums))"
   ]
  },
  {
   "cell_type": "markdown",
   "id": "ec8b5719-c275-4a0a-a28d-8dd9f7f4be49",
   "metadata": {},
   "source": [
    "Question 2\n",
    "Alice has n candies, where the ith candy is of type candyType[i]. Alice noticed that she started to gain weight, so she visited a doctor. \n",
    "\n",
    "The doctor advised Alice to only eat n / 2 of the candies she has (n is always even). Alice likes her candies very much, and she wants to eat the maximum number of different types of candies while still following the doctor's advice. \n",
    "\n",
    "Given the integer array candyType of length n, return the maximum number of different types of candies she can eat if she only eats n / 2 of them.\n",
    "\n",
    "Example 1:\n",
    "Input: candyType = [1,1,2,2,3,3]\n",
    "Output: 3\n",
    "\n",
    "Explanation: Alice can only eat 6 / 2 = 3 candies. Since there are only 3 types, she can eat one of each type."
   ]
  },
  {
   "cell_type": "code",
   "execution_count": 11,
   "id": "b1779a21-e68f-4acd-acad-529246b4608f",
   "metadata": {},
   "outputs": [
    {
     "name": "stdout",
     "output_type": "stream",
     "text": [
      "3\n"
     ]
    }
   ],
   "source": [
    "def maximum_candies(candyType):\n",
    "    candyMap = {}\n",
    "    nums = 0\n",
    "    for i in candyType:\n",
    "        if i not in candyMap:\n",
    "            nums += 1\n",
    "            candyMap[i] = 1\n",
    "                \n",
    "    return len(candyType) // 2 if len(candyType) // 2 < nums else nums\n",
    "\n",
    "candyType = [1,1,2,2,3,3]\n",
    "print(maximum_candies(candyType))"
   ]
  },
  {
   "cell_type": "markdown",
   "id": "472a5930-9189-4189-b5ff-e1be031a80aa",
   "metadata": {
    "tags": []
   },
   "source": [
    "Question 3\n",
    "We define a harmonious array as an array where the difference between its maximum value\n",
    "and its minimum value is exactly 1.\n",
    "\n",
    "Given an integer array nums, return the length of its longest harmonious subsequence\n",
    "among all its possible subsequences.\n",
    "\n",
    "A subsequence of an array is a sequence that can be derived from the array by deleting some or no elements without changing the order of the remaining elements.\n",
    "\n",
    "Example 1:\n",
    "Input: nums = [1,3,2,2,5,2,3,7]\n",
    "Output: 5\n",
    "\n",
    "Explanation: The longest harmonious subsequence is [3,2,2,2,3]."
   ]
  },
  {
   "cell_type": "code",
   "execution_count": 4,
   "id": "69fb2eda-41b3-40ff-b0bf-4e751273fe96",
   "metadata": {},
   "outputs": [
    {
     "name": "stdout",
     "output_type": "stream",
     "text": [
      "5\n"
     ]
    }
   ],
   "source": [
    "from collections import Counter\n",
    "def findLong(nums):\n",
    "    tmp = Counter(nums)\n",
    "    maxl = 0\n",
    "    for num, i in tmp.items():\n",
    "        if num - 1 in tmp:\n",
    "            maxl = max(maxl, tmp[num - 1] + tmp[num])\n",
    "    return maxl\n",
    "\n",
    "print(findLong([1,3,2,2,5,2,3,7]))"
   ]
  },
  {
   "cell_type": "markdown",
   "id": "f5e6a726-f0f9-4a9d-b7cf-990732585b33",
   "metadata": {},
   "source": [
    "Question 4\n",
    "You have a long flowerbed in which some of the plots are planted, and some are not.\n",
    "However, flowers cannot be planted in adjacent plots.\n",
    "Given an integer array flowerbed containing 0's and 1's, where 0 means empty and 1 means not empty, and an integer n, return true if n new flowers can be planted in the flowerbed without violating the no-adjacent-flowers rule and false otherwise.\n",
    "\n",
    "Example 1:\n",
    "Input: flowerbed = [1,0,0,0,1], n = 1\n",
    "Output: true"
   ]
  },
  {
   "cell_type": "code",
   "execution_count": 13,
   "id": "0f68c96a-f700-49f1-b94a-ac448df2ea5f",
   "metadata": {},
   "outputs": [
    {
     "name": "stdout",
     "output_type": "stream",
     "text": [
      "True\n"
     ]
    }
   ],
   "source": [
    "def flower(flowerbed,n):\n",
    "    count = 0\n",
    "    if n == 0:\n",
    "        return True\n",
    "    for i in range(len(flowerbed)):\n",
    "        if flowerbed[i]==0 and (i == 0 or flowerbed[i-1]==0) and (i == len(flowerbed)-1 or flowerbed[i+1]==0):\n",
    "            flowerbed[i] = 1\n",
    "            n -=1\n",
    "            if n == 0:\n",
    "                return True\n",
    "    else:\n",
    "        return False\n",
    "\n",
    "result = flower([1,0,0,0,1],1)\n",
    "print(result)"
   ]
  },
  {
   "cell_type": "markdown",
   "id": "48304f94-15ed-4428-9ad6-a8eef0dd8b90",
   "metadata": {},
   "source": [
    "Question 5\n",
    "Given an integer array nums, find three numbers whose product is maximum and return the maximum product.\n",
    "\n",
    "Example 1:\n",
    "Input: nums = [1,2,3]\n",
    "Output: 6"
   ]
  },
  {
   "cell_type": "code",
   "execution_count": 5,
   "id": "8ae13858-d775-4a9e-92c1-f567e656a016",
   "metadata": {},
   "outputs": [
    {
     "name": "stdout",
     "output_type": "stream",
     "text": [
      "6\n"
     ]
    }
   ],
   "source": [
    "def maximumProduct(nums):\n",
    "    nums.sort()\n",
    "    h3=nums[-1]*nums[-2]*nums[-3]\n",
    "    l3=nums[0]*nums[1]*nums[-1]\n",
    "    return max(h3,l3)\n",
    "\n",
    "result = maximumProduct([1,2,3])\n",
    "print(result)\n",
    "    \n"
   ]
  },
  {
   "cell_type": "markdown",
   "id": "36fccfe5-8cdd-4786-82c4-81dee409866d",
   "metadata": {},
   "source": [
    "Question 6\n",
    "Given an array of integers nums which is sorted in ascending order, and an integer target,\n",
    "write a function to search target in nums. If target exists, then return its index. Otherwise,\n",
    "return -1.\n",
    "\n",
    "You must write an algorithm with O(log n) runtime complexity.\n",
    "\n",
    "Input: nums = [-1,0,3,5,9,12], target = 9\n",
    "Output: 4\n",
    "\n",
    "Explanation: 9 exists in nums and its index is 4"
   ]
  },
  {
   "cell_type": "code",
   "execution_count": 8,
   "id": "90aabc69-5a2f-4ac6-8501-d918dea542c5",
   "metadata": {},
   "outputs": [
    {
     "name": "stdout",
     "output_type": "stream",
     "text": [
      "4\n"
     ]
    }
   ],
   "source": [
    "def search(nums, target):\n",
    "    left=0\n",
    "    right=len(nums)-1\n",
    "    while left<=right:\n",
    "        mid=left+(right-left)//2\n",
    "        if nums[mid]>target:\n",
    "            right=mid-1\n",
    "        elif nums[mid]<target:\n",
    "            left=mid+1\n",
    "        else:\n",
    "            return mid\n",
    "    return -1\n",
    "\n",
    "result = search([-1,0,3,5,9,12],9)\n",
    "print(result)"
   ]
  },
  {
   "cell_type": "markdown",
   "id": "b0c5f7e9-4a69-41f1-a5a9-8278a580d667",
   "metadata": {},
   "source": [
    "Question 7\n",
    "An array is monotonic if it is either monotone increasing or monotone decreasing.\n",
    "\n",
    "An array nums is monotone increasing if for all i <= j, nums[i] <= nums[j]. An array nums is\n",
    "monotone decreasing if for all i <= j, nums[i] >= nums[j].\n",
    "\n",
    "Given an integer array nums, return true if the given array is monotonic, or false otherwise.\n",
    "\n",
    "Example 1:\n",
    "Input: nums = [1,2,2,3]\n",
    "Output: true"
   ]
  },
  {
   "cell_type": "code",
   "execution_count": 16,
   "id": "6b889d35-c298-41aa-b572-5266f2171cfd",
   "metadata": {},
   "outputs": [
    {
     "name": "stdout",
     "output_type": "stream",
     "text": [
      "True\n"
     ]
    }
   ],
   "source": [
    "def monotone(nums):\n",
    "    if nums == sorted(nums) or nums == sorted(nums,reverse=True):\n",
    "        return True\n",
    "    else:\n",
    "        return False\n",
    "print(monotone([1,2,2,3]))"
   ]
  },
  {
   "cell_type": "markdown",
   "id": "96fc2813-eef6-4953-930c-498aa3039230",
   "metadata": {},
   "source": [
    "Question 8\n",
    "You are given an integer array nums and an integer k.\n",
    "\n",
    "In one operation, you can choose any index i where 0 <= i < nums.length and change nums[i] to nums[i] + x where x is an integer from the range [-k, k]. You can apply this operation at most once for each index i.\n",
    "\n",
    "The score of nums is the difference between the maximum and minimum elements in nums.\n",
    "\n",
    "Return the minimum score of nums after applying the mentioned operation at most once for each index in it.\n",
    "\n",
    "Example 1:\n",
    "Input: nums = [1], k = 0\n",
    "Output: 0\n",
    "\n",
    "Explanation: The score is max(nums) - min(nums) = 1 - 1 = 0."
   ]
  },
  {
   "cell_type": "code",
   "execution_count": 17,
   "id": "589b15f1-97cc-4b24-82de-6ed522ed0beb",
   "metadata": {},
   "outputs": [
    {
     "name": "stdout",
     "output_type": "stream",
     "text": [
      "0\n"
     ]
    }
   ],
   "source": [
    "def max_min(nums,k):\n",
    "    x=max(nums)\n",
    "    y=min(nums)\n",
    "    return max(0,(x-k)-(y+k))\n",
    "\n",
    "print(max_min([1],0))"
   ]
  }
 ],
 "metadata": {
  "kernelspec": {
   "display_name": "Python 3 (ipykernel)",
   "language": "python",
   "name": "python3"
  },
  "language_info": {
   "codemirror_mode": {
    "name": "ipython",
    "version": 3
   },
   "file_extension": ".py",
   "mimetype": "text/x-python",
   "name": "python",
   "nbconvert_exporter": "python",
   "pygments_lexer": "ipython3",
   "version": "3.10.0"
  }
 },
 "nbformat": 4,
 "nbformat_minor": 5
}
