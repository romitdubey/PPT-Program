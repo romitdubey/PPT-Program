{
 "cells": [
  {
   "cell_type": "markdown",
   "id": "b7609ca7-6a72-45e5-b764-46f56731bdba",
   "metadata": {},
   "source": [
    "1. Write a Python program to reverse a string without using any built-in string reversal functions."
   ]
  },
  {
   "cell_type": "code",
   "execution_count": 5,
   "id": "510dc61d-f270-43f8-9145-44b11f0eb529",
   "metadata": {},
   "outputs": [
    {
     "name": "stdout",
     "output_type": "stream",
     "text": [
      "dlroWolleH\n"
     ]
    }
   ],
   "source": [
    "def reverseString(s):\n",
    "    s= list(s)\n",
    "    f=0\n",
    "    l=len(s)-1\n",
    "    while f<l:\n",
    "        s[f],s[l]=s[l],s[f]\n",
    "        f +=1\n",
    "        l -=1\n",
    "    return \"\".join(s)\n",
    "\n",
    "s = \"HelloWorld\"\n",
    "print(reverseString(s))       "
   ]
  },
  {
   "cell_type": "markdown",
   "id": "abc50e90-c72a-4479-a6dd-a485e0812c41",
   "metadata": {},
   "source": [
    "2. Implement a function to check if a given string is a palindrome."
   ]
  },
  {
   "cell_type": "code",
   "execution_count": 10,
   "id": "f9056b90-d176-406f-96ed-6eaa9c0a2b22",
   "metadata": {},
   "outputs": [
    {
     "name": "stdout",
     "output_type": "stream",
     "text": [
      "True\n"
     ]
    }
   ],
   "source": [
    "def reverseString(s):\n",
    "    t= list(s)\n",
    "    f=0\n",
    "    l=len(s)-1\n",
    "    while f<l:\n",
    "        t[f],t[l]=t[l],t[f]\n",
    "        f +=1\n",
    "        l -=1\n",
    "    if \"\".join(t) == s:\n",
    "        return True\n",
    "    else:\n",
    "        return False\n",
    "    \n",
    "s = \"ROTATOR\"\n",
    "print(reverseString(s))"
   ]
  },
  {
   "cell_type": "markdown",
   "id": "b2ce41fa-26ab-45ed-86cb-b93b16657a57",
   "metadata": {},
   "source": [
    "3. Write a program to find the largest element in a given list."
   ]
  },
  {
   "cell_type": "code",
   "execution_count": 1,
   "id": "1d4c6029-9933-4115-ad25-be7386ff3b19",
   "metadata": {},
   "outputs": [
    {
     "name": "stdout",
     "output_type": "stream",
     "text": [
      "The largest element is: 89\n"
     ]
    }
   ],
   "source": [
    "def find_largest_element(lst):\n",
    "    if not lst:\n",
    "        return None\n",
    "\n",
    "    largest = lst[0] \n",
    "\n",
    "    for num in lst:\n",
    "        if num > largest:\n",
    "            largest = num\n",
    "\n",
    "    return largest\n",
    "\n",
    "\n",
    "\n",
    "my_list = [12, 45, 67, 23, 89, 34, 78]\n",
    "largest_element = find_largest_element(my_list)\n",
    "print(\"The largest element is:\", largest_element)\n"
   ]
  },
  {
   "cell_type": "markdown",
   "id": "c0f1b538-a8c5-469c-bef5-10c6d3ee6401",
   "metadata": {},
   "source": [
    "4. Implement a function to count the occurrence of each element in a list."
   ]
  },
  {
   "cell_type": "code",
   "execution_count": 15,
   "id": "3f39d556-7939-4262-a29c-edc3ba108bec",
   "metadata": {},
   "outputs": [
    {
     "name": "stdout",
     "output_type": "stream",
     "text": [
      "The element 1 occurred 2 times in the given list\n",
      "The element 2 occurred 1 times in the given list\n",
      "The element 3 occurred 2 times in the given list\n",
      "The element 5 occurred 3 times in the given list\n",
      "The element 7 occurred 2 times in the given list\n"
     ]
    }
   ],
   "source": [
    "def occurrence(lst):\n",
    "    lst.sort()\n",
    "    res ={}\n",
    "    for i in lst:\n",
    "        if i not in res:\n",
    "            res[i] = 1\n",
    "        else:\n",
    "            res[i] +=1\n",
    "    for i,j in res.items():\n",
    "        print(f'The element {i} occurred {j} times in the given list')\n",
    "    \n",
    "    \n",
    "lst = [1,2,5,3,7,5,3,7,1,5]\n",
    "occurrence(lst)\n"
   ]
  },
  {
   "cell_type": "markdown",
   "id": "57570b78-4155-4ca7-bc24-f27d4d0b493d",
   "metadata": {},
   "source": [
    "5. Write a Python program to find the second largest number in a list."
   ]
  },
  {
   "cell_type": "code",
   "execution_count": 17,
   "id": "e2504f85-c117-420d-9d0e-eef60b4da63e",
   "metadata": {},
   "outputs": [
    {
     "name": "stdout",
     "output_type": "stream",
     "text": [
      "The second largest number is: 78\n"
     ]
    }
   ],
   "source": [
    "def find_second_largest(lst):\n",
    "    if len(lst) < 2:\n",
    "        return None\n",
    "\n",
    "    largest = lst[0]\n",
    "    second_largest = None\n",
    "\n",
    "    for num in lst[1:]:\n",
    "        if num > largest:\n",
    "            second_largest = largest\n",
    "            largest = num\n",
    "        elif second_largest is None or num > second_largest:\n",
    "            second_largest = num\n",
    "\n",
    "    return second_largest\n",
    "\n",
    "\n",
    "# Example usage\n",
    "my_list = [12, 45, 67, 23, 89, 34, 78]\n",
    "second_largest_number = find_second_largest(my_list)\n",
    "print(\"The second largest number is:\", second_largest_number)\n"
   ]
  },
  {
   "cell_type": "markdown",
   "id": "e803bede-5428-4b73-b26e-413d1405d46f",
   "metadata": {},
   "source": [
    "6. Implement a function to remove duplicate elements from a list."
   ]
  },
  {
   "cell_type": "code",
   "execution_count": 19,
   "id": "c63edb1a-ce0d-4cbc-a408-c77b8e6fc585",
   "metadata": {},
   "outputs": [
    {
     "name": "stdout",
     "output_type": "stream",
     "text": [
      "[1, 2, 3, 5, 7]\n"
     ]
    }
   ],
   "source": [
    "def remove_duplicate(lst):\n",
    "    new = []\n",
    "    for i in lst:\n",
    "        if i not in new:\n",
    "            new.append(i)\n",
    "    return new\n",
    "\n",
    "my_list = [1,1,1,2,3,1,2,5,2,1,5]\n",
    "new_list = remove_duplicate(lst)\n",
    "print(new_list)"
   ]
  },
  {
   "cell_type": "markdown",
   "id": "03e5c0f4-c5f8-4888-82db-c76f8ca2b63e",
   "metadata": {},
   "source": [
    "7. Write a program to calculate the factorial of a given number."
   ]
  },
  {
   "cell_type": "code",
   "execution_count": 24,
   "id": "e3aac8e0-a175-4418-a101-8f5601f2cabd",
   "metadata": {},
   "outputs": [
    {
     "name": "stdout",
     "output_type": "stream",
     "text": [
      "The factorial of 10 is 3628800\n"
     ]
    }
   ],
   "source": [
    "def factorial(num):\n",
    "    if num==1:\n",
    "        return 1\n",
    "    else:\n",
    "        return num* factorial(num-1)\n",
    "    \n",
    "num =10    \n",
    "result = factorial(num)\n",
    "print(f'The factorial of {num} is {result}')"
   ]
  },
  {
   "cell_type": "markdown",
   "id": "c7e33ed5-faeb-4381-8f65-e0d5a98a10cb",
   "metadata": {},
   "source": [
    "8. Implement a function to check if a given number is prime."
   ]
  },
  {
   "cell_type": "code",
   "execution_count": 28,
   "id": "5feb999b-2bc8-48ff-b071-e2ce1bb52868",
   "metadata": {},
   "outputs": [
    {
     "name": "stdout",
     "output_type": "stream",
     "text": [
      "True\n"
     ]
    }
   ],
   "source": [
    "def check_prime(num):\n",
    "    if num<2:\n",
    "        return False\n",
    "    else:\n",
    "        for i in range(2,num-1):\n",
    "            if num%i==0:\n",
    "                return False\n",
    "        return True\n",
    "    \n",
    "num = 17\n",
    "print(check_prime(num))"
   ]
  },
  {
   "cell_type": "markdown",
   "id": "61dc94dd-5bee-4f23-9fdf-7ec552d4ab10",
   "metadata": {},
   "source": [
    "9. Write a Python program to sort a list of integers in ascending order."
   ]
  },
  {
   "cell_type": "code",
   "execution_count": 29,
   "id": "a5fce7af-fb34-4a2f-9c4d-4991f0a05e21",
   "metadata": {},
   "outputs": [
    {
     "name": "stdout",
     "output_type": "stream",
     "text": [
      "Original list: [9, 5, 7, 1, 3]\n",
      "Sorted list: [1, 3, 5, 7, 9]\n"
     ]
    }
   ],
   "source": [
    "def bubble_sort(nums):\n",
    "    n = len(nums)\n",
    "    for i in range(n):\n",
    "        swapped = False\n",
    "        for j in range(n - i - 1):\n",
    "            if nums[j] > nums[j + 1]:\n",
    "                nums[j], nums[j + 1] = nums[j + 1], nums[j]\n",
    "                swapped = True\n",
    "        if not swapped:\n",
    "            break\n",
    "\n",
    "\n",
    "numbers = [9, 5, 7, 1, 3]\n",
    "print(\"Original list:\", numbers)\n",
    "\n",
    "bubble_sort(numbers)\n",
    "print(\"Sorted list:\", numbers)\n"
   ]
  },
  {
   "cell_type": "markdown",
   "id": "97dc5efc-41c6-4bf9-8ae3-07de9606a309",
   "metadata": {},
   "source": [
    "10. Implement a function to find the sum of all numbers in a list."
   ]
  },
  {
   "cell_type": "code",
   "execution_count": 2,
   "id": "07a8b6f3-8326-4f26-8c27-7b7cd8b595f9",
   "metadata": {},
   "outputs": [
    {
     "name": "stdout",
     "output_type": "stream",
     "text": [
      "17\n"
     ]
    }
   ],
   "source": [
    "def sum_all_num(lst):\n",
    "    sum_result = 0\n",
    "    for i in lst:\n",
    "        sum_result += i\n",
    "    return sum_result\n",
    "\n",
    "lst = [5,2,4,6]\n",
    "print(sum_all_num(lst))"
   ]
  },
  {
   "cell_type": "markdown",
   "id": "7646a8c6-ee3d-4409-8222-1133e85f22b0",
   "metadata": {},
   "source": [
    "11. Write a program to find the common elements between two lists."
   ]
  },
  {
   "cell_type": "code",
   "execution_count": 4,
   "id": "e2a0af2c-9ff0-44ee-92c0-23ab71f81d1a",
   "metadata": {},
   "outputs": [
    {
     "name": "stdout",
     "output_type": "stream",
     "text": [
      "[2, 3]\n"
     ]
    }
   ],
   "source": [
    "def common_elemnts(lst1,lst2):\n",
    "    common =[]\n",
    "    for i in lst1:\n",
    "        if i in lst2:\n",
    "            common.append(i)\n",
    "    return common\n",
    "\n",
    "lst1 = [1,2,3]\n",
    "lst2 = [5,2,3,4]\n",
    "result = common_elemnts(lst1,lst2)\n",
    "print(result)"
   ]
  },
  {
   "cell_type": "markdown",
   "id": "c4f4b922-dfdb-465c-b8c9-28d1853c60f2",
   "metadata": {},
   "source": [
    "12. Implement a function to check if a given string is an anagram of another string."
   ]
  },
  {
   "cell_type": "code",
   "execution_count": 7,
   "id": "a1348fe4-e2be-4751-a8b6-fd5efd7d4abf",
   "metadata": {
    "tags": []
   },
   "outputs": [
    {
     "name": "stdout",
     "output_type": "stream",
     "text": [
      "True\n"
     ]
    }
   ],
   "source": [
    "def is_anagram(str1, str2):\n",
    "    str1 = str1.replace(\" \", \"\").lower()\n",
    "    str2 = str2.replace(\" \", \"\").lower()\n",
    "    if len(str1) != len(str2):\n",
    "        return False\n",
    "    char_count = {}\n",
    "    for char in str1:\n",
    "        if char in char_count:\n",
    "            char_count[char] += 1\n",
    "        else:\n",
    "            char_count[char] = 1\n",
    "    for char in str2:\n",
    "        if char in char_count:\n",
    "            char_count[char] -= 1\n",
    "        else:\n",
    "            return False\n",
    "    for count in char_count.values():\n",
    "        if count != 0:\n",
    "            return False\n",
    "    return True\n",
    "\n",
    "s1 = \"listen\"\n",
    "s2 = \"silent\"\n",
    "\n",
    "print(is_anagram(s1,s2))\n"
   ]
  },
  {
   "cell_type": "markdown",
   "id": "9024bcab-7af8-4516-9fe8-b919ff36debe",
   "metadata": {},
   "source": [
    "13. Write a Python program to generate all permutations of a given string."
   ]
  },
  {
   "cell_type": "code",
   "execution_count": 11,
   "id": "0eb21297-4d48-4df3-a5ef-62020ed0e3fa",
   "metadata": {
    "tags": []
   },
   "outputs": [
    {
     "name": "stdout",
     "output_type": "stream",
     "text": [
      "abc\n",
      "acb\n",
      "bac\n",
      "bca\n",
      "cab\n",
      "cba\n"
     ]
    }
   ],
   "source": [
    "from itertools import permutations\n",
    "\n",
    "def generate_permutations(string):\n",
    "    perms = permutations(string)\n",
    "    permutation = [''.join(perm) for perm in perms]\n",
    "    return permutation\n",
    "\n",
    "input_string = \"abc\"\n",
    "permutation = generate_permutations(input_string)\n",
    "\n",
    "for per in permutation:\n",
    "    print(per)"
   ]
  },
  {
   "cell_type": "markdown",
   "id": "9634e1c2-db8c-494f-be90-a4afc2076354",
   "metadata": {},
   "source": [
    "14. Implement a function to calculate the Fibonacci sequence up to a given number of terms.\n"
   ]
  },
  {
   "cell_type": "code",
   "execution_count": 16,
   "id": "fe7a76f8-b267-464d-b041-84da4d925716",
   "metadata": {
    "tags": []
   },
   "outputs": [
    {
     "name": "stdout",
     "output_type": "stream",
     "text": [
      "1 1 3 5 7 9 11 13 15 "
     ]
    }
   ],
   "source": [
    "def fibonacci(num):\n",
    "    for i in range(1,num):\n",
    "        if i == 1 or i == 2:\n",
    "            print(1,end=' ')\n",
    "        else:\n",
    "            print((i-1)+(i-2),end=' ')\n",
    "num = 10\n",
    "fibonacci(10)"
   ]
  },
  {
   "cell_type": "markdown",
   "id": "a6d7c556-d87c-4e93-86ea-1ef694d9ceab",
   "metadata": {},
   "source": [
    "15. Write a program to find the median of a list of numbers."
   ]
  },
  {
   "cell_type": "code",
   "execution_count": 21,
   "id": "7c678d38-75f6-40b4-982a-eae8f2be9858",
   "metadata": {
    "tags": []
   },
   "outputs": [
    {
     "name": "stdout",
     "output_type": "stream",
     "text": [
      "5.5\n"
     ]
    }
   ],
   "source": [
    "def median(lst):\n",
    "    lst.sort()\n",
    "    if len(lst)%2==0:\n",
    "        med1 = len(lst)//2\n",
    "        med2 = med1 + 1\n",
    "        med = (lst[med1] +lst[med2])/2\n",
    "        return med\n",
    "    else:\n",
    "        med = len(lst)//2\n",
    "        return lst[med]\n",
    "\n",
    "lst = [1,2,3,4,5,6,7,8]\n",
    "print(median(lst))"
   ]
  },
  {
   "cell_type": "markdown",
   "id": "58f6cebb-190a-41aa-992b-c7386cfe03c3",
   "metadata": {},
   "source": [
    "16. Implement a function to check if a given list is sorted in non-decreasing order."
   ]
  },
  {
   "cell_type": "code",
   "execution_count": 23,
   "id": "80dd66b6-7ac3-4820-928a-54f70f064457",
   "metadata": {
    "tags": []
   },
   "outputs": [
    {
     "name": "stdout",
     "output_type": "stream",
     "text": [
      "False\n"
     ]
    }
   ],
   "source": [
    "def check_sorted(lst):\n",
    "    for i in range(len(lst)):\n",
    "        if i == 0 or i == len(lst)-1:\n",
    "            continue\n",
    "        else:\n",
    "            if not lst[i]>=lst[i-1]:\n",
    "                return False\n",
    "    return True\n",
    "\n",
    "\n",
    "lst = [1,2,3,4,7,5,6]\n",
    "print(check_sorted(lst))"
   ]
  },
  {
   "cell_type": "markdown",
   "id": "8c89784a-84b9-4c00-9672-bb89b1843506",
   "metadata": {},
   "source": [
    "17. Write a Python program to find the intersection of two lists."
   ]
  },
  {
   "cell_type": "code",
   "execution_count": 25,
   "id": "5e940e9c-2e4f-4def-9eea-16dec451e14b",
   "metadata": {
    "tags": []
   },
   "outputs": [
    {
     "name": "stdout",
     "output_type": "stream",
     "text": [
      "[2, 3]\n"
     ]
    }
   ],
   "source": [
    "def intersection(lst1,lst2):\n",
    "    common =[]\n",
    "    for i in lst1:\n",
    "        if i in lst2:\n",
    "            common.append(i)\n",
    "    return common\n",
    "\n",
    "lst1 = [1,2,3]\n",
    "lst2 = [5,2,3,4]\n",
    "result = intersection(lst1,lst2)\n",
    "print(result)"
   ]
  },
  {
   "cell_type": "markdown",
   "id": "d67ce5ea-8a9d-47e1-bc2c-571437fb06d3",
   "metadata": {},
   "source": [
    "18. Implement a function to find the maximum subarray sum in a given list."
   ]
  },
  {
   "cell_type": "code",
   "execution_count": 26,
   "id": "1e5e4ab6-74aa-419a-a91d-b5964a0bb830",
   "metadata": {
    "tags": []
   },
   "outputs": [
    {
     "name": "stdout",
     "output_type": "stream",
     "text": [
      "Maximum subarray sum: 6\n"
     ]
    }
   ],
   "source": [
    "def max_subarray_sum(lst):\n",
    "    if not lst:\n",
    "        return 0\n",
    "\n",
    "    current_sum = lst[0]\n",
    "    max_sum = lst[0]\n",
    "\n",
    "    for i in range(1, len(lst)):\n",
    "        current_sum = max(lst[i], current_sum + lst[i])\n",
    "        max_sum = max(max_sum, current_sum)\n",
    "\n",
    "    return max_sum\n",
    "\n",
    "nums = [-2, 1, -3, 4, -1, 2, 1, -5, 4]\n",
    "max_sum = max_subarray_sum(nums)\n",
    "print(\"Maximum subarray sum:\", max_sum)\n"
   ]
  },
  {
   "cell_type": "markdown",
   "id": "2ee892ff-1e62-4590-ba22-2a1bf7955fa7",
   "metadata": {},
   "source": [
    "19. Write a program to remove all vowels from a given string."
   ]
  },
  {
   "cell_type": "code",
   "execution_count": 31,
   "id": "204200eb-dcea-40e4-be0a-1218c332c507",
   "metadata": {
    "tags": []
   },
   "outputs": [
    {
     "name": "stdout",
     "output_type": "stream",
     "text": [
      "Hll Wrld\n"
     ]
    }
   ],
   "source": [
    "def remove_vowel(s):\n",
    "    new = []\n",
    "    vowel = ['a','e','i','o','u']\n",
    "    for i in list(s):\n",
    "        if i.lower() not in vowel:\n",
    "            new.append(i)\n",
    "    return \"\".join(new)\n",
    "\n",
    "s = \"Hello World\"\n",
    "print(remove_vowel(s))\n",
    "            "
   ]
  },
  {
   "cell_type": "markdown",
   "id": "832f3d80-8ee9-431f-b53e-6639e79ab1e2",
   "metadata": {},
   "source": [
    "20. Implement a function to reverse the order of words in a given sentence."
   ]
  },
  {
   "cell_type": "code",
   "execution_count": 38,
   "id": "ac0786d7-0e30-4cf1-bd00-9b3a84e1721b",
   "metadata": {
    "tags": []
   },
   "outputs": [
    {
     "name": "stdout",
     "output_type": "stream",
     "text": [
      "Assignment Science Data doing am I\n"
     ]
    }
   ],
   "source": [
    "def reverse_words(s):\n",
    "    s = s.split()\n",
    "    return \" \".join([i for i in s[::-1]])\n",
    "\n",
    "s = \"I am doing Data Science Assignment\"\n",
    "print(reverse_words(s))"
   ]
  },
  {
   "cell_type": "markdown",
   "id": "61a73a98-943b-4def-8187-cbd889b21c00",
   "metadata": {},
   "source": [
    "21. Write a Python program to check if two strings are anagrams of each other."
   ]
  },
  {
   "cell_type": "code",
   "execution_count": 39,
   "id": "836fe6b7-f1d0-4e0a-aa11-b58676bcb6ae",
   "metadata": {
    "tags": []
   },
   "outputs": [
    {
     "name": "stdout",
     "output_type": "stream",
     "text": [
      "True\n"
     ]
    }
   ],
   "source": [
    "def is_anagram(str1, str2):\n",
    "    str1 = str1.replace(\" \", \"\").lower()\n",
    "    str2 = str2.replace(\" \", \"\").lower()\n",
    "    if len(str1) != len(str2):\n",
    "        return False\n",
    "    char_count = {}\n",
    "    for char in str1:\n",
    "        if char in char_count:\n",
    "            char_count[char] += 1\n",
    "        else:\n",
    "            char_count[char] = 1\n",
    "    for char in str2:\n",
    "        if char in char_count:\n",
    "            char_count[char] -= 1\n",
    "        else:\n",
    "            return False\n",
    "    for count in char_count.values():\n",
    "        if count != 0:\n",
    "            return False\n",
    "    return True\n",
    "\n",
    "s1 = \"listen\"\n",
    "s2 = \"silent\"\n",
    "\n",
    "print(is_anagram(s1,s2))\n"
   ]
  },
  {
   "cell_type": "markdown",
   "id": "96dca000-72e0-4e93-8cd5-28b916dc778d",
   "metadata": {},
   "source": [
    "22. Implement a function to find the first non-repeating character in a string."
   ]
  },
  {
   "cell_type": "code",
   "execution_count": 45,
   "id": "1b1aea9c-dcc2-4e40-9bf8-1927cbcf6148",
   "metadata": {
    "tags": []
   },
   "outputs": [
    {
     "name": "stdout",
     "output_type": "stream",
     "text": [
      "l\n"
     ]
    }
   ],
   "source": [
    "def first_non_repeating(s):\n",
    "    s = list(s)\n",
    "    for i in range(len(s)):\n",
    "        if s[i] not in s[i+1:]:\n",
    "            return s[i]\n",
    "    return -1\n",
    "\n",
    "s = \"element\"\n",
    "print(first_non_repeating(s))\n"
   ]
  },
  {
   "cell_type": "markdown",
   "id": "776a96d6-09c2-43b4-9486-7e60daf29351",
   "metadata": {},
   "source": [
    "23. Write a program to find the prime factors of a given number."
   ]
  },
  {
   "cell_type": "code",
   "execution_count": 46,
   "id": "0c16e79d-db73-429d-8b0b-d1256f47a6fb",
   "metadata": {
    "tags": []
   },
   "outputs": [
    {
     "name": "stdout",
     "output_type": "stream",
     "text": [
      "Prime factors of 84:\n",
      "2\n",
      "2\n",
      "3\n",
      "7\n"
     ]
    }
   ],
   "source": [
    "def find_prime_factors(n):\n",
    "    prime_factors = []\n",
    "    i = 2\n",
    "\n",
    "    while i <= n:\n",
    "        if n % i == 0:\n",
    "            prime_factors.append(i)\n",
    "            n //= i\n",
    "        else:\n",
    "            i += 1\n",
    "\n",
    "    return prime_factors\n",
    "\n",
    "# Example usage\n",
    "number = 84\n",
    "factors = find_prime_factors(number)\n",
    "\n",
    "print(f\"Prime factors of {number}:\")\n",
    "for factor in factors:\n",
    "    print(factor)"
   ]
  },
  {
   "cell_type": "markdown",
   "id": "ea8256e3-c036-4c29-8d4d-ff4d2f19d45e",
   "metadata": {},
   "source": [
    "24. Implement a function to check if a given number is a power of two."
   ]
  },
  {
   "cell_type": "code",
   "execution_count": 48,
   "id": "6dfa2c7a-ba71-4b71-87ab-1346d5099144",
   "metadata": {
    "tags": []
   },
   "outputs": [
    {
     "name": "stdout",
     "output_type": "stream",
     "text": [
      "True\n"
     ]
    }
   ],
   "source": [
    "def check_power(n):\n",
    "    if n %n == 0:\n",
    "        return True\n",
    "    else:\n",
    "        return False\n",
    "\n",
    "n = 25\n",
    "print(check_power(n))"
   ]
  },
  {
   "cell_type": "markdown",
   "id": "ae89a6fa-b000-4eb4-a62b-003a5ff3f323",
   "metadata": {},
   "source": [
    "25. Write a Python program to merge two sorted lists into a single sorted list."
   ]
  },
  {
   "cell_type": "code",
   "execution_count": 50,
   "id": "6e0dd7cb-eb5d-4da0-b63d-7ae471964e7a",
   "metadata": {
    "tags": []
   },
   "outputs": [
    {
     "name": "stdout",
     "output_type": "stream",
     "text": [
      "[1, 2, 3, 4, 5, 6, 7]\n"
     ]
    }
   ],
   "source": [
    "def merge_list(lst1,lst2):\n",
    "    for i in lst1:\n",
    "        lst2.append(i)\n",
    "    return sorted(lst2)\n",
    "\n",
    "lst1 = [1,2,3,4]\n",
    "lst2 = [5,6,7]\n",
    "print(merge_list(lst1,lst2))"
   ]
  },
  {
   "cell_type": "markdown",
   "id": "8679c4d1-42cc-482f-9f39-5f26903cf5dd",
   "metadata": {},
   "source": [
    "26. Implement a function to find the mode of a list of numbers."
   ]
  },
  {
   "cell_type": "code",
   "execution_count": 60,
   "id": "49ee127b-ebe8-4969-92ca-180439741907",
   "metadata": {
    "tags": []
   },
   "outputs": [
    {
     "name": "stdout",
     "output_type": "stream",
     "text": [
      "Mode(s):\n",
      "4\n"
     ]
    }
   ],
   "source": [
    "from collections import Counter\n",
    "\n",
    "def find_mode(numbers):\n",
    "    counter = Counter(numbers)\n",
    "    max_count = max(counter.values())\n",
    "    mode = [num for num, count in counter.items() if count == max_count]\n",
    "    return mode\n",
    "\n",
    "nums = [1, 2, 2, 3, 3, 3, 4, 4, 4, 4]\n",
    "mode = find_mode(nums)\n",
    "\n",
    "print(\"Mode(s):\")\n",
    "for value in mode:\n",
    "    print(value)\n"
   ]
  },
  {
   "cell_type": "markdown",
   "id": "2804fc2d-f0be-4793-8bfe-3c819507f913",
   "metadata": {
    "tags": []
   },
   "source": [
    "27. Write a program to find the greatest common divisor (GCD) of two numbers"
   ]
  },
  {
   "cell_type": "code",
   "execution_count": 63,
   "id": "d6dc2307-8a63-4217-ac56-46f2a8b40884",
   "metadata": {
    "tags": []
   },
   "outputs": [
    {
     "name": "stdout",
     "output_type": "stream",
     "text": [
      "GCD: 12\n"
     ]
    }
   ],
   "source": [
    "def find_gcd(a, b):\n",
    "    while b != 0:\n",
    "        a, b = b, a % b\n",
    "\n",
    "    return a\n",
    "num1 = 84\n",
    "num2 = 36\n",
    "\n",
    "gcd = find_gcd(num1, num2)\n",
    "print(\"GCD:\", gcd)\n"
   ]
  },
  {
   "cell_type": "markdown",
   "id": "a445ea03-e48b-45db-913d-ca0ec437272f",
   "metadata": {},
   "source": [
    "28. Implement a function to calculate the square root of a given number."
   ]
  },
  {
   "cell_type": "code",
   "execution_count": 65,
   "id": "627c0ca9-1ba5-46e6-899e-5332a05da139",
   "metadata": {
    "tags": []
   },
   "outputs": [
    {
     "name": "stdout",
     "output_type": "stream",
     "text": [
      "5\n"
     ]
    }
   ],
   "source": [
    "def square_root(n):\n",
    "    if n < 0:\n",
    "        raise ValueError(\"Cannot calculate square root of a negative number.\")\n",
    "    elif n == 0:\n",
    "        return 0\n",
    "\n",
    "    x = n\n",
    "    y = (x + 1) // 2  # Initial guess\n",
    "\n",
    "    while y < x:\n",
    "        x = y\n",
    "        y = (x + n // x) // 2\n",
    "\n",
    "    return x\n",
    "\n",
    "n = 25\n",
    "print(square_root(n))"
   ]
  },
  {
   "cell_type": "markdown",
   "id": "070a76eb-30ae-4824-a238-eb96b399cc5f",
   "metadata": {},
   "source": [
    "29. Write a Python program to check if a given string is a valid palindrome ignoring non-alphanumeric characters."
   ]
  },
  {
   "cell_type": "code",
   "execution_count": 67,
   "id": "e7173ead-ed94-4d7d-b1d5-3d8cfc7e38b4",
   "metadata": {
    "tags": []
   },
   "outputs": [
    {
     "name": "stdout",
     "output_type": "stream",
     "text": [
      "valid palindrome.\n"
     ]
    }
   ],
   "source": [
    "import re\n",
    "\n",
    "def is_valid_palindrome(s):\n",
    "    s = re.sub(r'[^a-zA-Z0-9]', '', s).lower()\n",
    "    return s == s[::-1]\n",
    "\n",
    "\n",
    "string = \"A man, a plan, a canal: Panama\"\n",
    "\n",
    "if is_valid_palindrome(string):\n",
    "    print(\"valid palindrome.\")\n",
    "else:\n",
    "    print(\"not a valid palindrome.\")\n",
    "\n"
   ]
  },
  {
   "cell_type": "markdown",
   "id": "684d791a-3379-4d6c-889d-c7be68ee0818",
   "metadata": {},
   "source": [
    "30. Implement a function to find the minimum element in a rotated sorted list."
   ]
  },
  {
   "cell_type": "code",
   "execution_count": 68,
   "id": "bfaf3ec1-1b02-43d7-840f-4752a9fb49c4",
   "metadata": {
    "tags": []
   },
   "outputs": [
    {
     "name": "stdout",
     "output_type": "stream",
     "text": [
      "Minimum element: 1\n"
     ]
    }
   ],
   "source": [
    "def find_minimum(nums):\n",
    "    left = 0\n",
    "    right = len(nums) - 1\n",
    "\n",
    "    while left < right:\n",
    "        mid = left + (right - left) // 2\n",
    "\n",
    "        if nums[mid] > nums[right]:\n",
    "            left = mid + 1\n",
    "        else:\n",
    "            right = mid\n",
    "\n",
    "    return nums[left]\n",
    "\n",
    "\n",
    "rotated_list = [4, 5, 6, 7, 1, 2]\n",
    "minimum = find_minimum(rotated_list)\n",
    "print(\"Minimum element:\", minimum)\n"
   ]
  },
  {
   "cell_type": "markdown",
   "id": "a80402eb-b954-4c4b-85a4-7a8a59da8de8",
   "metadata": {},
   "source": [
    "31. Write a program to find the sum of all even numbers in a list."
   ]
  },
  {
   "cell_type": "code",
   "execution_count": 69,
   "id": "6c36b8c2-df87-4567-9533-080c25188677",
   "metadata": {
    "tags": []
   },
   "outputs": [
    {
     "name": "stdout",
     "output_type": "stream",
     "text": [
      "20\n"
     ]
    }
   ],
   "source": [
    "def sum_even(lst):\n",
    "    even =[]\n",
    "    for i in lst:\n",
    "        if i%2==0:\n",
    "            even.append(i)\n",
    "    return sum(even)\n",
    "\n",
    "lst = [1,2,3,4,5,6,7,8]\n",
    "print(sum_even(lst))"
   ]
  },
  {
   "cell_type": "markdown",
   "id": "f3c6edf5-fca6-4c4e-8880-f56d30305675",
   "metadata": {},
   "source": [
    "32. Implement a function to calculate the power of a number using recursion."
   ]
  },
  {
   "cell_type": "code",
   "execution_count": 70,
   "id": "e52a71f2-119d-46aa-b305-661e1be18b0e",
   "metadata": {
    "tags": []
   },
   "outputs": [
    {
     "name": "stdout",
     "output_type": "stream",
     "text": [
      "625\n"
     ]
    }
   ],
   "source": [
    "def power(base, exponent):\n",
    "    if exponent == 0:\n",
    "        return 1\n",
    "    elif exponent < 0:\n",
    "        return 1 / power(base, -exponent)\n",
    "    else:\n",
    "        return base * power(base, exponent - 1)\n",
    "\n",
    "result = power(5,4)\n",
    "print(result)"
   ]
  },
  {
   "cell_type": "markdown",
   "id": "b4b1b39e-2568-43c5-a3e0-bfb421b9b77a",
   "metadata": {},
   "source": [
    "33. Write a Python program to remove duplicates from a list while preserving the order.\n"
   ]
  },
  {
   "cell_type": "code",
   "execution_count": 76,
   "id": "87656640-aaef-4e27-ac32-45fdda59da47",
   "metadata": {
    "tags": []
   },
   "outputs": [
    {
     "name": "stdout",
     "output_type": "stream",
     "text": [
      "[1, 2, 3, 4, 5, 6, 7]\n"
     ]
    }
   ],
   "source": [
    "def remove_duplicates(lst):\n",
    "    unique_list = []\n",
    "    seen = set()\n",
    "\n",
    "    for item in lst:\n",
    "        if item not in seen:\n",
    "            unique_list.append(item)\n",
    "            seen.add(item)\n",
    "\n",
    "    return unique_list\n",
    "\n",
    "\n",
    "lst = [1, 2, 3, 2, 4, 3, 5, 6, 4, 7]\n",
    "print(remove_duplicates(lst))\n",
    "        "
   ]
  },
  {
   "cell_type": "markdown",
   "id": "85e13de4-70a8-4168-b3c3-02d7f5201f20",
   "metadata": {},
   "source": [
    "34. Implement a function to find the longest common prefix among a list of strings."
   ]
  },
  {
   "cell_type": "code",
   "execution_count": 77,
   "id": "ef33de44-45f1-4cde-b2fe-82a0f8cc9aff",
   "metadata": {
    "tags": []
   },
   "outputs": [
    {
     "name": "stdout",
     "output_type": "stream",
     "text": [
      "fl\n"
     ]
    }
   ],
   "source": [
    "def longest_common_prefix(strings):\n",
    "    if not strings:\n",
    "        return \"\"\n",
    "\n",
    "    prefix = strings[0]\n",
    "\n",
    "    for string in strings[1:]:\n",
    "        while string[:len(prefix)] != prefix:\n",
    "            prefix = prefix[:-1]\n",
    "            if not prefix:\n",
    "                return \"\"\n",
    "\n",
    "    return prefix\n",
    "\n",
    "string_list = [\"flower\", \"flow\", \"flight\"]\n",
    "common_prefix = longest_common_prefix(string_list)\n",
    "print(common_prefix)\n"
   ]
  },
  {
   "cell_type": "markdown",
   "id": "b50051de-564b-4fde-86d5-654ff2841223",
   "metadata": {},
   "source": [
    "35. Write a program to check if a given number is a perfect square.\n"
   ]
  },
  {
   "cell_type": "code",
   "execution_count": 78,
   "id": "da75055c-51b8-4b1f-8866-0cfe879553c0",
   "metadata": {
    "tags": []
   },
   "outputs": [
    {
     "name": "stdout",
     "output_type": "stream",
     "text": [
      "True\n"
     ]
    }
   ],
   "source": [
    "def is_perfect_square(num):\n",
    "    if num < 0:\n",
    "        return False\n",
    "\n",
    "    i = 0\n",
    "    while i * i <= num:\n",
    "        if i * i == num:\n",
    "            return True\n",
    "        i += 1\n",
    "\n",
    "    return False\n",
    "print(is_perfect_square(144))"
   ]
  },
  {
   "cell_type": "markdown",
   "id": "e575c7de-499e-4b8c-b0ee-a53072fadc68",
   "metadata": {},
   "source": [
    "36. Implement a function to calculate the product of all elements in a list."
   ]
  },
  {
   "cell_type": "code",
   "execution_count": 79,
   "id": "17e4106a-5321-4616-94ac-9affe0c8057f",
   "metadata": {
    "tags": []
   },
   "outputs": [
    {
     "name": "stdout",
     "output_type": "stream",
     "text": [
      "600\n"
     ]
    }
   ],
   "source": [
    "def product(lst):\n",
    "    prod = 1\n",
    "    for i in lst:\n",
    "        prod *= i\n",
    "    return prod\n",
    "\n",
    "lst = [2,5,3,4,5]\n",
    "print(product(lst))"
   ]
  },
  {
   "cell_type": "markdown",
   "id": "aa4ec761-2d1d-429d-bbb0-9da2dfc80a98",
   "metadata": {},
   "source": [
    "37. Write a Python program to reverse the order of words in a sentence while preserving the word order."
   ]
  },
  {
   "cell_type": "code",
   "execution_count": 80,
   "id": "75bcd27a-0820-411c-a7a7-d188bafbf0a0",
   "metadata": {
    "tags": []
   },
   "outputs": [
    {
     "name": "stdout",
     "output_type": "stream",
     "text": [
      "you? are How world! Hello,\n"
     ]
    }
   ],
   "source": [
    "def reverse_sentence(sentence):\n",
    "    words = sentence.split()\n",
    "    reversed_words = words[::-1]\n",
    "    reversed_sentence = ' '.join(reversed_words)\n",
    "    return reversed_sentence\n",
    "sentence = \"Hello, world! How are you?\"\n",
    "reversed_sentence = reverse_sentence(sentence)\n",
    "print(reversed_sentence)\n"
   ]
  },
  {
   "cell_type": "markdown",
   "id": "8ba7c45b-6fe9-4a21-b2c0-268d5e051f43",
   "metadata": {},
   "source": [
    "38. Implement a function to find the missing number in a given list of consecutive numbers."
   ]
  },
  {
   "cell_type": "code",
   "execution_count": 82,
   "id": "6d9d598d-4215-4fc4-aafb-c08ea1dbe00a",
   "metadata": {
    "tags": []
   },
   "outputs": [
    {
     "name": "stdout",
     "output_type": "stream",
     "text": [
      "7\n"
     ]
    }
   ],
   "source": [
    "def missing(lst):\n",
    "    i = lst[0]\n",
    "    for j in range(len(lst)):\n",
    "        if i != lst[j]:\n",
    "            return i\n",
    "        i+=1\n",
    "    else:\n",
    "        return None\n",
    "\n",
    "lst = [2,3,4,5,6,8]\n",
    "print(missing(lst))\n",
    "    "
   ]
  },
  {
   "cell_type": "markdown",
   "id": "988b6621-e363-4ca5-8089-e3d3ec72b25a",
   "metadata": {},
   "source": [
    "39. Write a program to find the sum of digits of a given number."
   ]
  },
  {
   "cell_type": "code",
   "execution_count": 83,
   "id": "7c46ceef-3909-4a0a-a63d-04b139958181",
   "metadata": {
    "tags": []
   },
   "outputs": [
    {
     "name": "stdout",
     "output_type": "stream",
     "text": [
      "9\n"
     ]
    }
   ],
   "source": [
    "def sum_of_digit(num):\n",
    "    num = str(num)\n",
    "    s = 0\n",
    "    for i in num:\n",
    "        s += int(i)\n",
    "    return s\n",
    "\n",
    "n  = 252\n",
    "print(sum_of_digit(n))"
   ]
  },
  {
   "cell_type": "markdown",
   "id": "0a466037-269b-4b83-aa60-3170c9f9afa4",
   "metadata": {},
   "source": [
    "40. Implement a function to check if a given string is a valid palindrome considering case sensitivity."
   ]
  },
  {
   "cell_type": "code",
   "execution_count": 85,
   "id": "0309ed9d-0d3c-4130-8669-e52a373eddd5",
   "metadata": {
    "tags": []
   },
   "outputs": [
    {
     "name": "stdout",
     "output_type": "stream",
     "text": [
      "True\n"
     ]
    }
   ],
   "source": [
    "def is_valid_palindrome(s):\n",
    "    s = ''.join(e for e in s if e.isalnum()).lower()\n",
    "    return s == s[::-1]\n",
    "\n",
    "s = \"naman\"\n",
    "print(is_valid_palindrome(s))\n"
   ]
  },
  {
   "cell_type": "markdown",
   "id": "a17c7738-6677-404b-b694-c64c7cbeb370",
   "metadata": {},
   "source": [
    "41. Write a Python program to find the smallest missing positive integer in a list."
   ]
  },
  {
   "cell_type": "code",
   "execution_count": 94,
   "id": "b021d8c2-64b9-491e-9fdb-f2de69b4eb31",
   "metadata": {
    "tags": []
   },
   "outputs": [
    {
     "name": "stdout",
     "output_type": "stream",
     "text": [
      "2\n"
     ]
    }
   ],
   "source": [
    "def smallest_positive(lst):\n",
    "    lst.sort()\n",
    "    i = 0\n",
    "    for j in range(len(lst)):\n",
    "        if i != lst[j]:\n",
    "            if not i<=0:\n",
    "                return i\n",
    "        i+=1\n",
    "    else:\n",
    "        return None\n",
    "\n",
    "lst = [1,-1,3,4]\n",
    "print(smallest_positive(lst))\n",
    "        "
   ]
  },
  {
   "cell_type": "markdown",
   "id": "355d7c2e-593c-4ccd-822b-368b896b3f33",
   "metadata": {},
   "source": [
    "42. Implement a function to find the longest palindrome substring in a given string."
   ]
  },
  {
   "cell_type": "code",
   "execution_count": 96,
   "id": "757e4da4-626b-4ef4-9bf9-092f5d5c2886",
   "metadata": {
    "tags": []
   },
   "outputs": [
    {
     "name": "stdout",
     "output_type": "stream",
     "text": [
      "aba\n"
     ]
    }
   ],
   "source": [
    "def longest_palindrome(s):\n",
    "    n = len(s)\n",
    "\n",
    "    # Initialize variables to track the longest palindrome substring\n",
    "    start = 0\n",
    "    max_length = 1\n",
    "\n",
    "    # Create a table to store the results of subproblems\n",
    "    table = [[False for _ in range(n)] for _ in range(n)]\n",
    "\n",
    "    # All substrings of length 1 are palindromes\n",
    "    for i in range(n):\n",
    "        table[i][i] = True\n",
    "\n",
    "    # Check for palindromes of length 2\n",
    "    for i in range(n-1):\n",
    "        if s[i] == s[i+1]:\n",
    "            table[i][i+1] = True\n",
    "            start = i\n",
    "            max_length = 2\n",
    "\n",
    "    # Check for palindromes of length greater than 2\n",
    "    for length in range(3, n+1):\n",
    "        for i in range(n-length+1):\n",
    "            j = i + length - 1\n",
    "\n",
    "            # Check if the substring between i and j is a palindrome\n",
    "            if s[i] == s[j] and table[i+1][j-1]:\n",
    "                table[i][j] = True\n",
    "                start = i\n",
    "                max_length = length\n",
    "\n",
    "    # Return the longest palindrome substring\n",
    "    return s[start:start+max_length]\n",
    "string = \"babad\"\n",
    "longest_palindrome_str = longest_palindrome(string)\n",
    "print(longest_palindrome_str)\n"
   ]
  },
  {
   "cell_type": "markdown",
   "id": "268c0d0d-c9dc-40bc-93b8-bb5ab71df2e6",
   "metadata": {},
   "source": [
    "43. Write a program to find the number of occurrences of a given element in a list."
   ]
  },
  {
   "cell_type": "code",
   "execution_count": 95,
   "id": "6f194d52-e8e4-4398-a79c-d664471b002c",
   "metadata": {
    "tags": []
   },
   "outputs": [
    {
     "name": "stdout",
     "output_type": "stream",
     "text": [
      "Counter({1: 2, 2: 2, 3: 2, 4: 1})\n"
     ]
    }
   ],
   "source": [
    "from collections import Counter\n",
    "\n",
    "lst = [1,2,3,1,4,2,3]\n",
    "print(Counter(lst))"
   ]
  },
  {
   "cell_type": "markdown",
   "id": "bbe58009-826e-43b2-ac56-890b05d934f4",
   "metadata": {},
   "source": [
    "44. Implement a function to check if a given number is a perfect number."
   ]
  },
  {
   "cell_type": "code",
   "execution_count": 97,
   "id": "a068bfac-55db-459f-9b11-7e553f0a9644",
   "metadata": {
    "tags": []
   },
   "outputs": [
    {
     "name": "stdout",
     "output_type": "stream",
     "text": [
      "True\n"
     ]
    }
   ],
   "source": [
    "def is_perfect_number(number):\n",
    "    if number <= 0:\n",
    "        return False\n",
    "\n",
    "    divisors = []\n",
    "    for i in range(1, number):\n",
    "        if number % i == 0:\n",
    "            divisors.append(i)\n",
    "\n",
    "    return sum(divisors) == number\n",
    "\n",
    "\n",
    "num = 28\n",
    "\n",
    "print(is_perfect_number(num))\n"
   ]
  },
  {
   "cell_type": "markdown",
   "id": "4e1fa903-17b9-434c-b541-78e3881ec6e4",
   "metadata": {},
   "source": [
    "45. Write a Python program to remove all duplicates from a string."
   ]
  },
  {
   "cell_type": "code",
   "execution_count": 99,
   "id": "efe08a8d-9aaa-4325-b4aa-bfe8ca8e9125",
   "metadata": {
    "tags": []
   },
   "outputs": [
    {
     "name": "stdout",
     "output_type": "stream",
     "text": [
      "Helo, Wrd!\n"
     ]
    }
   ],
   "source": [
    "def remove_duplicates(string):\n",
    "    unique_chars = set()\n",
    "    new_string = \"\"\n",
    "    for char in string:\n",
    "        if char not in unique_chars:\n",
    "            new_string += char\n",
    "            unique_chars.add(char)\n",
    "\n",
    "    return new_string\n",
    "\n",
    "text = \"Hello, World!\"\n",
    "result = remove_duplicates(text)\n",
    "print(result)\n"
   ]
  },
  {
   "cell_type": "markdown",
   "id": "73528183-ea2e-4f6c-8853-713df18e174b",
   "metadata": {},
   "source": [
    "46. Implement a function to find the first missing positive"
   ]
  },
  {
   "cell_type": "code",
   "execution_count": 98,
   "id": "033ab48e-ef01-44c7-bf41-6f1b76441d9d",
   "metadata": {
    "tags": []
   },
   "outputs": [
    {
     "name": "stdout",
     "output_type": "stream",
     "text": [
      "2\n"
     ]
    }
   ],
   "source": [
    "def first(lst):\n",
    "    lst.sort()\n",
    "    i = 1\n",
    "    for j in range(len(lst)):\n",
    "        if i != lst[j]:\n",
    "            if not i<=0:\n",
    "                return i\n",
    "        i+=1\n",
    "    else:\n",
    "        return None\n",
    "\n",
    "lst = [1,3,4]\n",
    "print(first(lst))\n",
    "        "
   ]
  }
 ],
 "metadata": {
  "kernelspec": {
   "display_name": "Python 3 (ipykernel)",
   "language": "python",
   "name": "python3"
  },
  "language_info": {
   "codemirror_mode": {
    "name": "ipython",
    "version": 3
   },
   "file_extension": ".py",
   "mimetype": "text/x-python",
   "name": "python",
   "nbconvert_exporter": "python",
   "pygments_lexer": "ipython3",
   "version": "3.10.0"
  }
 },
 "nbformat": 4,
 "nbformat_minor": 5
}
