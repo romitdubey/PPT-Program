{
 "cells": [
  {
   "cell_type": "markdown",
   "id": "06ba0186-767c-4e8e-8fe4-069881fbdec0",
   "metadata": {},
   "source": [
    "## Move Zeroes\n",
    "\n",
    "Given an integer array nums, move all 0's to the end of it while maintaining the relative order of the non-zero elements.\n",
    "\n",
    "Note that you must do this in-place without making a copy of the array.\n",
    "\n",
    "Example 1:\n",
    "Input: nums = [0,1,0,3,12]\n",
    "Output: [1,3,12,0,0]\n",
    "\n",
    "Example 2:\n",
    "Input: nums = [0]\n",
    "Output: [0]\n",
    "\n",
    "Constraints:\n",
    "a. 1 <= nums.length <= 10^4\n",
    "b. -2^31 <= nums[i] <= 2^31 - 1"
   ]
  },
  {
   "cell_type": "code",
   "execution_count": 14,
   "id": "eee54b13-9b96-4681-8750-7275cdeb3081",
   "metadata": {
    "tags": []
   },
   "outputs": [
    {
     "name": "stdout",
     "output_type": "stream",
     "text": [
      "[1, 3, 12, 0, 0]\n",
      "[0]\n"
     ]
    }
   ],
   "source": [
    "def moving_zeros(nums):\n",
    "    no_of_zeros=0\n",
    "    for i,j in enumerate(nums):\n",
    "        if j == 0:\n",
    "            no_of_zeros += 1\n",
    "    for i in range(no_of_zeros):\n",
    "        nums.remove(0)\n",
    "        nums.append(0)\n",
    "            \n",
    "    return nums\n",
    "\n",
    "nums1 = [0,1,0,3,12]\n",
    "nums2 = [0]\n",
    "print(moving_zeros(nums1))\n",
    "print(moving_zeros(nums2))"
   ]
  }
 ],
 "metadata": {
  "kernelspec": {
   "display_name": "Python 3 (ipykernel)",
   "language": "python",
   "name": "python3"
  },
  "language_info": {
   "codemirror_mode": {
    "name": "ipython",
    "version": 3
   },
   "file_extension": ".py",
   "mimetype": "text/x-python",
   "name": "python",
   "nbconvert_exporter": "python",
   "pygments_lexer": "ipython3",
   "version": "3.10.0"
  }
 },
 "nbformat": 4,
 "nbformat_minor": 5
}
